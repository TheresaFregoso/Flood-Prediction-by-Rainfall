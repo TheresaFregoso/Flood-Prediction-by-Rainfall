{
 "cells": [
  {
   "cell_type": "markdown",
   "metadata": {},
   "source": [
    "## Predicting Flood Potential Based on Rain Fall for the San Lorenzo River Basin, California"
   ]
  },
  {
   "cell_type": "markdown",
   "metadata": {},
   "source": [
    "ETL Step 1:  \n",
    "- Extracting data from Stream Gage USGS 11160500 San Lorenzo at Big Trees for the time period 09/01/2014 to 09/01/2024.\n",
    "\n",
    "  Stream Gage data was obtained through download via the [USGS for station 11160500]. River height in feet, measurement every 15 minutes.\n",
    "\n",
    "- Extracting precipitation data relative to the San Lorenzo River Watershed for the same time period, 09/01/2014 to 09/01/2024.\n",
    "  Data was obtained from the [California Data Exchange Center, Department of Water Sources site]\n",
    "  \n",
    "  4 stations were identified that have hourly data readings in inches of rainfall:\n",
    "\n",
    "| Location            | Code | Elevation | Latitude  | Longitude    | County     | Agency                              |\n",
    "|---------------------|------|-----------|-----------|--------------|------------|-------------------------------------|\n",
    "| BEN LOMOND (CDF)     | BLO  | 2630      | 37.132000 | -122.169998  | SANTA CRUZ | CA Dept of Forestry and Fire Protection |\n",
    "| SCHULTIES RD         | SCH  | 1400      | 37.132999 | -121.969002  | SANTA CRUZ | Santa Cruz County                   |\n",
    "| BOULDER CREEK        | BDC  | 800       | 37.141998 | -122.163002  | SANTA CRUZ | Santa Cruz County                   |\n",
    "| BEN LOMOND           | BLN  | 365       | 37.092999 | -122.074997  | SANTA CRUZ | Santa Cruz County                   |\n",
    "\n",
    "\n",
    "\n",
    "\n",
    "\n",
    "\n",
    "\n",
    "[USGS for station 11160500]: https://waterdata.usgs.gov/monitoring-location/11160500/#parameterCode=00065&period=P7D&showMedian=false\n",
    "[California Data Exchange Center, Department of Water Sources site]: https://cdec.water.ca.gov/dynamicapp/wsSensorData"
   ]
  },
  {
   "cell_type": "code",
   "execution_count": 3,
   "metadata": {},
   "outputs": [],
   "source": [
    "# Import dependencies\n",
    "import pandas as pd "
   ]
  },
  {
   "cell_type": "markdown",
   "metadata": {},
   "source": [
    "Extracting the Stream Gage data to a Pandas data frame"
   ]
  },
  {
   "cell_type": "code",
   "execution_count": 5,
   "metadata": {},
   "outputs": [
    {
     "name": "stdout",
     "output_type": "stream",
     "text": [
      "  agency   site_no            datetime time_zone  gage_height approval_code\n",
      "0   USGS  11160500 2014-09-01 00:00:00       PDT         2.69             A\n",
      "1   USGS  11160500 2014-09-01 00:15:00       PDT         2.69             A\n",
      "2   USGS  11160500 2014-09-01 00:30:00       PDT         2.69             A\n",
      "3   USGS  11160500 2014-09-01 00:45:00       PDT         2.69             A\n",
      "4   USGS  11160500 2014-09-01 01:00:00       PDT         2.69             A\n"
     ]
    }
   ],
   "source": [
    "# Define the file path \n",
    "file_path = 'Resources/BigTrees11160500_9_2014_9_2024.txt'\n",
    "\n",
    "# Skip the header rows and load the data into a DataFrame\n",
    "stream = pd.read_csv(file_path, sep='\\t', comment='#', skiprows=28, header=0)\n",
    "\n",
    "# Rename the columns\n",
    "stream.columns = ['agency', 'site_no', 'datetime', 'time_zone', 'gage_height', 'approval_code']\n",
    "\n",
    "# Convert the 'datetime' column to datetime type for easier manipulation\n",
    "stream['datetime'] = pd.to_datetime(stream['datetime'])\n",
    "\n",
    "# Display the DataFrame\n",
    "print(stream.head())"
   ]
  },
  {
   "cell_type": "code",
   "execution_count": 6,
   "metadata": {},
   "outputs": [
    {
     "name": "stdout",
     "output_type": "stream",
     "text": [
      "Data has been saved to Resources/cleaned_stream_gage_data.csv\n"
     ]
    }
   ],
   "source": [
    "# Define the path for the new CSV output\n",
    "output_csv = 'Resources/cleaned_stream_gage_data.csv'\n",
    "\n",
    "# Save the DataFrame to a new CSV file\n",
    "stream.to_csv(output_csv, index=False)\n",
    "\n",
    "print(f\"Data has been saved to {output_csv}\")"
   ]
  },
  {
   "cell_type": "markdown",
   "metadata": {},
   "source": [
    "Clean date to have only one measurement per hour to match the rain data"
   ]
  },
  {
   "cell_type": "code",
   "execution_count": 8,
   "metadata": {},
   "outputs": [
    {
     "name": "stdout",
     "output_type": "stream",
     "text": [
      "            date_hour  gage_height\n",
      "0 2014-09-01 00:00:00         2.69\n",
      "1 2014-09-01 01:00:00         2.69\n",
      "2 2014-09-01 02:00:00         2.69\n",
      "3 2014-09-01 03:00:00         2.68\n",
      "4 2014-09-01 04:00:00         2.68\n"
     ]
    },
    {
     "name": "stderr",
     "output_type": "stream",
     "text": [
      "/var/folders/_d/q6dl733j0hdfhxbg883rg3xc0000gn/T/ipykernel_13663/2196555765.py:8: FutureWarning: 'H' is deprecated and will be removed in a future version, please use 'h' instead.\n",
      "  stream['date_hour'] = stream['datetime'].dt.floor('H')\n"
     ]
    }
   ],
   "source": [
    "# Convert the 'datetime' column to datetime format if it exists\n",
    "if 'datetime' in stream.columns:\n",
    "    stream['datetime'] = pd.to_datetime(stream['datetime'], errors='coerce')\n",
    "\n",
    "# Extract the date and hour from the 'datetime' column\n",
    "stream['date_hour'] = stream['datetime'].dt.floor('h')\n",
    "\n",
    "# Group by the date and hour and get the max gage height for each hour\n",
    "max_height_per_hour = stream.groupby('date_hour').agg({'gage_height': 'max'}).reset_index()\n",
    "\n",
    "# Display the new DataFrame with the date, hour, and max height\n",
    "print(max_height_per_hour.head())\n",
    "\n"
   ]
  },
  {
   "cell_type": "markdown",
   "metadata": {},
   "source": [
    "Extracting rain data to Pandas data frame"
   ]
  },
  {
   "cell_type": "code",
   "execution_count": 12,
   "metadata": {},
   "outputs": [
    {
     "name": "stderr",
     "output_type": "stream",
     "text": [
      "/usr/local/Caskroom/miniforge/base/envs/flooding_model/lib/python3.11/site-packages/openpyxl/styles/stylesheet.py:237: UserWarning: Workbook contains no default style, apply openpyxl's default\n",
      "  warn(\"Workbook contains no default style, apply openpyxl's default\")\n"
     ]
    },
    {
     "data": {
      "text/plain": [
       "['Sheet1']"
      ]
     },
     "execution_count": 12,
     "metadata": {},
     "output_type": "execute_result"
    }
   ],
   "source": [
    "# Load the Excel file\n",
    "file_path = 'Resources/BLO_ SCH_ BDC_ BLN_2.xlsx'\n",
    "\n",
    "# Reading the Excel file to inspect sheet names and general structure\n",
    "xls = pd.ExcelFile(file_path)\n",
    "\n",
    "# Display the sheet names to understand how the data is organized\n",
    "xls.sheet_names"
   ]
  },
  {
   "cell_type": "code",
   "execution_count": 14,
   "metadata": {},
   "outputs": [
    {
     "name": "stderr",
     "output_type": "stream",
     "text": [
      "/usr/local/Caskroom/miniforge/base/envs/flooding_model/lib/python3.11/site-packages/openpyxl/styles/stylesheet.py:237: UserWarning: Workbook contains no default style, apply openpyxl's default\n",
      "  warn(\"Workbook contains no default style, apply openpyxl's default\")\n"
     ]
    },
    {
     "data": {
      "text/html": [
       "<div>\n",
       "<style scoped>\n",
       "    .dataframe tbody tr th:only-of-type {\n",
       "        vertical-align: middle;\n",
       "    }\n",
       "\n",
       "    .dataframe tbody tr th {\n",
       "        vertical-align: top;\n",
       "    }\n",
       "\n",
       "    .dataframe thead th {\n",
       "        text-align: right;\n",
       "    }\n",
       "</style>\n",
       "<table border=\"1\" class=\"dataframe\">\n",
       "  <thead>\n",
       "    <tr style=\"text-align: right;\">\n",
       "      <th></th>\n",
       "      <th>STATION_ID</th>\n",
       "      <th>DURATION</th>\n",
       "      <th>SENSOR_NUMBER</th>\n",
       "      <th>SENS_TYPE</th>\n",
       "      <th>OBS DATE</th>\n",
       "      <th>VALUE</th>\n",
       "      <th>DATA_FLAG</th>\n",
       "      <th>UNITS</th>\n",
       "    </tr>\n",
       "  </thead>\n",
       "  <tbody>\n",
       "    <tr>\n",
       "      <th>0</th>\n",
       "      <td>BLO</td>\n",
       "      <td>H</td>\n",
       "      <td>2</td>\n",
       "      <td>RAIN</td>\n",
       "      <td>2014-09-01 00:00:00</td>\n",
       "      <td>0.04</td>\n",
       "      <td></td>\n",
       "      <td>INCHES</td>\n",
       "    </tr>\n",
       "    <tr>\n",
       "      <th>1</th>\n",
       "      <td>BLO</td>\n",
       "      <td>H</td>\n",
       "      <td>2</td>\n",
       "      <td>RAIN</td>\n",
       "      <td>2014-09-01 01:00:00</td>\n",
       "      <td>0.04</td>\n",
       "      <td></td>\n",
       "      <td>INCHES</td>\n",
       "    </tr>\n",
       "    <tr>\n",
       "      <th>2</th>\n",
       "      <td>BLO</td>\n",
       "      <td>H</td>\n",
       "      <td>2</td>\n",
       "      <td>RAIN</td>\n",
       "      <td>2014-09-01 02:00:00</td>\n",
       "      <td>0.04</td>\n",
       "      <td></td>\n",
       "      <td>INCHES</td>\n",
       "    </tr>\n",
       "    <tr>\n",
       "      <th>3</th>\n",
       "      <td>BLO</td>\n",
       "      <td>H</td>\n",
       "      <td>2</td>\n",
       "      <td>RAIN</td>\n",
       "      <td>2014-09-01 03:00:00</td>\n",
       "      <td>0.04</td>\n",
       "      <td></td>\n",
       "      <td>INCHES</td>\n",
       "    </tr>\n",
       "    <tr>\n",
       "      <th>4</th>\n",
       "      <td>BLO</td>\n",
       "      <td>H</td>\n",
       "      <td>2</td>\n",
       "      <td>RAIN</td>\n",
       "      <td>2014-09-01 04:00:00</td>\n",
       "      <td>0.04</td>\n",
       "      <td></td>\n",
       "      <td>INCHES</td>\n",
       "    </tr>\n",
       "  </tbody>\n",
       "</table>\n",
       "</div>"
      ],
      "text/plain": [
       "  STATION_ID DURATION  SENSOR_NUMBER SENS_TYPE            OBS DATE  VALUE  \\\n",
       "0        BLO        H              2      RAIN 2014-09-01 00:00:00   0.04   \n",
       "1        BLO        H              2      RAIN 2014-09-01 01:00:00   0.04   \n",
       "2        BLO        H              2      RAIN 2014-09-01 02:00:00   0.04   \n",
       "3        BLO        H              2      RAIN 2014-09-01 03:00:00   0.04   \n",
       "4        BLO        H              2      RAIN 2014-09-01 04:00:00   0.04   \n",
       "\n",
       "  DATA_FLAG   UNITS  \n",
       "0            INCHES  \n",
       "1            INCHES  \n",
       "2            INCHES  \n",
       "3            INCHES  \n",
       "4            INCHES  "
      ]
     },
     "execution_count": 14,
     "metadata": {},
     "output_type": "execute_result"
    }
   ],
   "source": [
    "# Since the file contains a single sheet 'Sheet1', let's load it and inspect the first few rows to understand the data structure.\n",
    "rain = pd.read_excel(file_path, sheet_name='Sheet1')\n",
    "\n",
    "# Drop the 'datetime' column\n",
    "rain = rain.drop(columns=['DATE TIME'])\n",
    "\n",
    "# Convert the 'obs_date' column to datetime\n",
    "rain['OBS DATE'] = pd.to_datetime(rain['OBS DATE'], errors='coerce')\n",
    "\n",
    "# Display the first few rows of the DataFrame to understand the structure\n",
    "rain.head()"
   ]
  },
  {
   "cell_type": "code",
   "execution_count": 15,
   "metadata": {},
   "outputs": [
    {
     "name": "stdout",
     "output_type": "stream",
     "text": [
      "STATION_ID               object\n",
      "DURATION                 object\n",
      "SENSOR_NUMBER             int64\n",
      "SENS_TYPE                object\n",
      "OBS DATE         datetime64[ns]\n",
      "VALUE                   float64\n",
      "DATA_FLAG                object\n",
      "UNITS                    object\n",
      "dtype: object\n"
     ]
    }
   ],
   "source": [
    "print(rain.dtypes)"
   ]
  }
 ],
 "metadata": {
  "kernelspec": {
   "display_name": "boot_camp2",
   "language": "python",
   "name": "python3"
  },
  "language_info": {
   "codemirror_mode": {
    "name": "ipython",
    "version": 3
   },
   "file_extension": ".py",
   "mimetype": "text/x-python",
   "name": "python",
   "nbconvert_exporter": "python",
   "pygments_lexer": "ipython3",
   "version": "3.11.9"
  }
 },
 "nbformat": 4,
 "nbformat_minor": 2
}
